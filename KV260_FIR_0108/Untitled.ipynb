{
 "cells": [
  {
   "cell_type": "code",
   "execution_count": 11,
   "id": "ec983a07",
   "metadata": {},
   "outputs": [],
   "source": [
    "from pynq import Overlay\n",
    "#from pynq import MMIO\n",
    "\n",
    "overlay = Overlay('./FIR_0108_wrapper.bit')\n",
    "overlay?"
   ]
  },
  {
   "cell_type": "code",
   "execution_count": null,
   "id": "f63b7b84",
   "metadata": {},
   "outputs": [],
   "source": []
  },
  {
   "cell_type": "code",
   "execution_count": null,
   "id": "8ce2f95d",
   "metadata": {},
   "outputs": [],
   "source": []
  }
 ],
 "metadata": {
  "kernelspec": {
   "display_name": "Python 3 (ipykernel)",
   "language": "python",
   "name": "python3"
  },
  "language_info": {
   "codemirror_mode": {
    "name": "ipython",
    "version": 3
   },
   "file_extension": ".py",
   "mimetype": "text/x-python",
   "name": "python",
   "nbconvert_exporter": "python",
   "pygments_lexer": "ipython3",
   "version": "3.10.12"
  }
 },
 "nbformat": 4,
 "nbformat_minor": 5
}
