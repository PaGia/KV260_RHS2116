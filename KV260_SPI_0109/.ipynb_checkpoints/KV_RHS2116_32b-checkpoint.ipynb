{
 "cells": [
  {
   "cell_type": "code",
   "execution_count": 53,
   "id": "375bcbe7",
   "metadata": {},
   "outputs": [],
   "source": [
    "from pynq import Overlay, MMIO\n",
    "import pynq.lib as lib\n",
    "import time\n",
    "import numpy as np\n",
    "from datetime import datetime\n",
    "from pytz import timezone\n",
    "overlay = Overlay(\"./KV260_SPI_wrapper.bit\")\n",
    "AxiQspi = overlay.axi_quad_spi_0\n",
    "overlay?"
   ]
  },
  {
   "cell_type": "code",
   "execution_count": 54,
   "id": "1b2827f8",
   "metadata": {},
   "outputs": [],
   "source": [
    "# Offset\n",
    "# Interrupt Control Grouping\n",
    "XSP_DGIER_OFFSET = 0x1C # Device global interrupt enable register\n",
    "XSP_IISR_OFFSET = 0x20 # IP interrupt status register\n",
    "XSP_IIER_OFFSET = 0x28 # IP interrupt enable register\n",
    "# Core Grouping\n",
    "XSP_SRR_OFFSET = 0x40 # Software reset register\n",
    "XSP_CR_OFFSET = 0x60 # SPI control register\n",
    "XSP_SR_OFFSET = 0x64 # SPI status register\n",
    "XSP_DTR_OFFSET = 0x68 # SPI data transmit register.\n",
    "XSP_DRR_OFFSET = 0x6C # SPI data receive register\n",
    "XSP_SSR_OFFSET = 0x70 # SPI Slave select register\n",
    "XSP_TFO_OFFSET = 0x74 # Transmit FIFO occupancy register\n",
    "XSP_RFO_OFFSET = 0x78 # Receive FIFO occupancy register\n",
    "XSP_REGISTERS = [0x40, 0x60, 0x64, 0x68, 0x6c, 0x70, 0x74, 0x78, 0x1c, 0x20, 0x28]\n",
    "\n",
    "# Mask\n",
    "XSP_SRR_RESET_MASK = 0x0A\n",
    "XSP_SR_TX_EMPTY_MASK = 0x04\n",
    "XSP_SR_TX_FULL_MASK = 0x08\n",
    "## Crl mask\n",
    "XSP_CR_TRANS_INHIBIT_MASK = 0x100 # Master Transaction Inhibit 0 = enable, 1 = disable\n",
    "XSP_CR_LOOPBACK_MASK = 0x01 # Lookback mode: 0 = Normal operation, 1 = Loopback mode\n",
    "XSP_CR_ENABLE_MASK = 0x02 # SPI system enable: 0 = SPI system disabled, 1 = SPI system enabled.\n",
    "XSP_CR_MASTER_MODE_MASK = 0x04 # Set SPI mode: 0 = Slave configuration, 1 = Master configuration.\n",
    "XSP_CR_CLK_POLARITY_MASK = 0x08 # Clock phase\n",
    "XSP_CR_CLK_PHASE_MASK = 0x10 # Clock polarity\n",
    "XSP_CR_TXFIFO_RESET_MASK = 0x20 # Transmit FIFO reset: 0 = Transmit FIFO normal operation, 1 = Reset transmit FIFO pointer.\n",
    "XSP_CR_RXFIFO_RESET_MASK = 0x40 # Receive FIFO reset: 0 = Receive FIFO normal operation, 1 = Reset receive FIFO pointer.\n",
    "XSP_CR_MANUAL_SS_MASK = 0x80 # Manual slave select assertion enable\n",
    "\n",
    "SLAVE_NO_SELECTION = 0xFFFFFFFF"
   ]
  },
  {
   "cell_type": "code",
   "execution_count": 55,
   "id": "ce6a545f",
   "metadata": {},
   "outputs": [
    {
     "name": "stdout",
     "output_type": "stream",
     "text": [
      "Done\n"
     ]
    }
   ],
   "source": [
    "def cnfg(AxiQspi, clk_phase=0, clk_pol=0):\n",
    "    print(\"Configure device\")\n",
    "    # Reset the SPI device\n",
    "    AxiQspi.write(XSP_SRR_OFFSET, XSP_SRR_RESET_MASK)\n",
    "    # Enable the transmit empty interrupt, which we use to determine progress on the transmission. \n",
    "    AxiQspi.write(XSP_IIER_OFFSET, XSP_SR_TX_EMPTY_MASK)\n",
    "    # Disable the global IPIF interrupt\n",
    "    AxiQspi.write(XSP_DGIER_OFFSET, 0)\n",
    "    # Deselect the slave on the SPI bus\n",
    "    AxiQspi.write(XSP_SSR_OFFSET, SLAVE_NO_SELECTION)\n",
    "    # Disable the transmitter, enable Manual Slave Select Assertion, put SPI controller into master mode, and enable it\n",
    "    ControlReg = AxiQspi.read(XSP_CR_OFFSET)\n",
    "    ControlReg = ControlReg | XSP_CR_MASTER_MODE_MASK | XSP_CR_MANUAL_SS_MASK | XSP_CR_ENABLE_MASK | XSP_CR_TXFIFO_RESET_MASK | XSP_CR_RXFIFO_RESET_MASK\n",
    "    AxiQspi.write(XSP_CR_OFFSET, ControlReg)\n",
    "    \n",
    "    ControlReg = AxiQspi.read(XSP_CR_OFFSET)\n",
    "    ControlReg = ControlReg & ~(XSP_CR_CLK_PHASE_MASK | XSP_CR_CLK_POLARITY_MASK) \n",
    "    if clk_phase == 1:\n",
    "        ControlReg = ControlReg | XSP_CR_CLK_PHASE_MASK\n",
    "    if clk_pol == 1:\n",
    "        ControlReg = ControlReg | XSP_CR_CLK_POLARITY_MASK\n",
    "    AxiQspi.write(XSP_CR_OFFSET, ControlReg) #?\n",
    "    CRRead = AxiQspi.read(XSP_CR_OFFSET)\n",
    "    print(f\"XSP_CR_OFFSET : {bin(CRRead)[2:].zfill(10)}\")\n",
    "    return 0\n",
    "print(\"Done\")"
   ]
  },
  {
   "cell_type": "code",
   "execution_count": 56,
   "id": "c5d20ba9",
   "metadata": {},
   "outputs": [
    {
     "name": "stdout",
     "output_type": "stream",
     "text": [
      "Configure device\n",
      "XSP_CR_OFFSET : 0110000110\n"
     ]
    },
    {
     "data": {
      "text/plain": [
       "0"
      ]
     },
     "execution_count": 56,
     "metadata": {},
     "output_type": "execute_result"
    }
   ],
   "source": [
    "cnfg(AxiQspi)"
   ]
  },
  {
   "cell_type": "code",
   "execution_count": 67,
   "id": "1732e08c",
   "metadata": {},
   "outputs": [
    {
     "name": "stdout",
     "output_type": "stream",
     "text": [
      "set xfer Done\n"
     ]
    }
   ],
   "source": [
    "def xfer(B2Send, B2Recv, AxiQspi):\n",
    "    \"\"\"\n",
    "    SPI Transfer function that sends and receives data in one 32-bit manner.\n",
    "    Args:\n",
    "        AxiQspi: SPI device object.\n",
    "        B2Send : List of bytes to send .\n",
    "        B2Recv : List to store received bytes .\n",
    "    \"\"\"\n",
    "\n",
    "    # ----------------------\n",
    "    # 1. 組合 4 Byte -> 32 bit，並一次寫入\n",
    "    # ----------------------\n",
    "    print(\"TransferData\")\n",
    "    if len(B2Send) != 4:\n",
    "        raise ValueError(\"This example expects exactly 4 bytes in B2Send.\")\n",
    "\n",
    "    data32 = 0\n",
    "    for i, val in enumerate(B2Send):\n",
    "        data32 |= (val << (8 * (3 - i)))\n",
    "\n",
    "    print(f\"byte2Send: {B2Send} => 0x{data32:08X} (32-bit)\")\n",
    "    AxiQspi.write(XSP_DTR_OFFSET, data32)\n",
    "    StatusReg = AxiQspi.read(XSP_SR_OFFSET)\n",
    "    print(f\"STAT_REG (二進制) : {bin(StatusReg)[2:].zfill(11)}\")\n",
    "    # 選擇 SPI Slave\n",
    "    AxiQspi.write(XSP_SSR_OFFSET, 0xFFFFFFFE)\n",
    "\n",
    "    # 清除 TRANS_INHIBIT_MASK\n",
    "    ControlReg = AxiQspi.read(XSP_CR_OFFSET)\n",
    "    ControlReg &= ~XSP_CR_TRANS_INHIBIT_MASK\n",
    "    AxiQspi.write(XSP_CR_OFFSET, ControlReg)\n",
    "\n",
    "    # 等待傳送完成 (TX FIFO empty)\n",
    "    StatusReg = AxiQspi.read(XSP_SR_OFFSET)\n",
    "    while (StatusReg & XSP_SR_TX_EMPTY_MASK) == 0:\n",
    "        StatusReg = AxiQspi.read(XSP_SR_OFFSET)\n",
    "\n",
    "    # 讀取回一筆 (假設硬體會回傳 32 bit 到 RFO_OFFSET)\n",
    "    temp_rfo = AxiQspi.read(XSP_RFO_OFFSET)\n",
    "    print(f\"XSP_RFO_OFFSET: 0x{temp_rfo:08X}\")\n",
    "\n",
    "    # 傳送完後，重新設置 TRANS_INHIBIT_MASK\n",
    "    ControlReg = AxiQspi.read(XSP_CR_OFFSET)\n",
    "    ControlReg |= XSP_CR_TRANS_INHIBIT_MASK\n",
    "    AxiQspi.write(XSP_CR_OFFSET, ControlReg)\n",
    "\n",
    "    # 取消所有 Slave\n",
    "    AxiQspi.write(XSP_SSR_OFFSET, SLAVE_NO_SELECTION)\n",
    "    StatusReg = AxiQspi.read(XSP_SR_OFFSET)\n",
    "    print(f\"STAT_REG (二進制) : {bin(StatusReg)[2:].zfill(11)}\")\n",
    "    # ----------------------\n",
    "    # 2. 讀取 32 bit 並拆解成 4 個 8 bit\n",
    "    # ----------------------\n",
    "    print(\"ReadResponse\")\n",
    "    RxFifoStatus = AxiQspi.read(XSP_SR_OFFSET) & 0x01\n",
    "    \n",
    "    # 清空 B2Recv (確保不會累加舊的資料)\n",
    "    B2Recv = []\n",
    "    \n",
    "    while RxFifoStatus == 0:\n",
    "        # 先讀 32 bit\n",
    "        temp32_rfo = AxiQspi.read(XSP_RFO_OFFSET)\n",
    "        print(f\"XSP_RFO_OFFSET: 0x{temp32_rfo:08X}\")\n",
    "        \n",
    "        # 有些硬體可能會同時從 DRR 讀到對應資料\n",
    "        temp32_drr = AxiQspi.read(XSP_DRR_OFFSET)\n",
    "        print(f\"32-bit read from DRR : 0x{temp32_drr:08X}\")\n",
    "\n",
    "        # 拆解成 4 個 8-bit\n",
    "        b0 = (temp32_drr >> 24) & 0xFF\n",
    "        b1 = (temp32_drr >> 16) & 0xFF\n",
    "        b2 = (temp32_drr >> 8)  & 0xFF\n",
    "        b3 =  temp32_drr        & 0xFF\n",
    "\n",
    "        # 使用 extend，將 4 個 8-bit 接在 B2Recv (單一 list)\n",
    "        B2Recv.extend([b0, b1, b2, b3])\n",
    "\n",
    "        # 顯示結果 (示範 16 進位格式)\n",
    "        print(f\"B2Recv after split : {[f'0x{x:02X}' for x in B2Recv]}\")\n",
    "\n",
    "        # (若硬體還有更多資料，就持續讀...)\n",
    "        RxFifoStatus = AxiQspi.read(XSP_SR_OFFSET) & 0x01\n",
    "\n",
    "    print(\"Done\")\n",
    "    # 若希望後續能使用修改後的 B2Recv，可考慮在這裡 return\n",
    "#     return B2Recv\n",
    "print(\"set xfer Done\")"
   ]
  },
  {
   "cell_type": "code",
   "execution_count": 58,
   "id": "80c5641e",
   "metadata": {},
   "outputs": [
    {
     "name": "stdout",
     "output_type": "stream",
     "text": [
      "Done\n"
     ]
    }
   ],
   "source": [
    "def signedToUnsigned(n, byte_count):\n",
    "    return int.from_bytes(n.to_bytes(byte_count, 'little', signed=True), 'little', signed=False)\n",
    "\n",
    "def toSigned32(n):\n",
    "    n = n & 0xffffffff\n",
    "    return (n ^ 0x80000000) - 0x80000000\n",
    "\n",
    "def getDateTime(): \n",
    "    format = \"%Y-%m-%d %H:%M:%S\"\n",
    "    now_utc = datetime.now(timezone('UTC'))\n",
    "    now_asia = now_utc.astimezone(timezone('Asia/Taipei'))\n",
    "    print(now_asia.strftime(format))\n",
    "    \n",
    "# Read和Write(reg_addr) are DEX?y\n",
    "# 要改，T和R的width都不一樣\n",
    "def ReadIntan(reg_addr,times):\n",
    "    hexReg=f\"0x{reg_addr:02X}\"\n",
    "    reg_addr = int(reg_addr)  \n",
    "    byte2Send = [0xf0, reg_addr, 0x00, 0x00]\n",
    "    byte2Recv = [] # 用 zeros 初始化接收數組\n",
    "    for num in range(1, times+1):\n",
    "        xfer(byte2Send, byte2Recv, AxiQspi)\n",
    "    #print(chr(byte2Recv[0]))\n",
    "    MB=signedToUnsigned(byte2Recv[2], 1)\n",
    "    LB=signedToUnsigned(byte2Recv[3], 1)\n",
    "    realdata=MB<<8|LB\n",
    "    #print(byte2Recv[1])\n",
    "    return toSigned32(realdata)\n",
    "\n",
    "# D要以2byte的方式傳送(hex)\n",
    "def WriteIntan(R,D,timew):\n",
    "    hexR=f\"0x{R:02X}\"\n",
    "    wbyte2Send=[0xB0,hexR,D]\n",
    "    wbyte2Recv=[]\n",
    "    for num in range(1, timew+1):\n",
    "        xfer(wbyte2Send, wbyte2Recv, AxiQspi)\n",
    "    #print(wbyte2Recv)\n",
    "    \n",
    "def CaliIntan():\n",
    "    cbyte2Send=[0x55,0x00,0x00,0x00]\n",
    "    cbyte2Recv=[]\n",
    "    xfer(cbyte2Send, cbyte2Recv, AxiQspi)\n",
    "    #print(cbyte2Recv)\n",
    "    \n",
    "def ConvertIntan(C):\n",
    "    cobyte2Send=[0x3C,C,0x00,0x00] #flag全開\n",
    "    cobyte2Recv=[]\n",
    "    xfer(cobyte2Send, cobyte2Recv, AxiQspi)\n",
    "    #print(cobyte2Recv)\n",
    "    MB=signedToUnsigned(cobyte2Recv[0], 1)\n",
    "    MB2=signedToUnsigned(cobyte2Recv[1], 1)\n",
    "    LB=signedToUnsigned(cobyte2Recv[2], 1)\n",
    "    LB2=signedToUnsigned(cobyte2Recv[3], 1)\n",
    "    ACrealdata=MB<<24|MB2<<16\n",
    "    LGrealdata=LB<<8|LB2 #low-gain amplifier，有需要在把這個移到輸出\n",
    "    return toSigned32(ACrealdata)*CFactor\n",
    "\n",
    "def Iclear():\n",
    "    clbyte2Send=[0x6A,0x00,0x00,0x00]\n",
    "    clbyte2Recv=[]\n",
    "    xfer(clbyte2Send, clbyte2Recv, AxiQspi)\n",
    "\n",
    "print(\"Done\")"
   ]
  },
  {
   "cell_type": "code",
   "execution_count": 68,
   "id": "adbc43c8",
   "metadata": {},
   "outputs": [
    {
     "name": "stdout",
     "output_type": "stream",
     "text": [
      "TransferData\n",
      "byte2Send: [240, 251, 0, 0] => 0xF0FB0000 (32-bit)\n",
      "STAT_REG (二進制) : 00000100001\n",
      "XSP_RFO_OFFSET: 0x00000000\n",
      "STAT_REG (二進制) : 00000100100\n",
      "ReadResponse\n",
      "XSP_RFO_OFFSET: 0x00000000\n",
      "32-bit read from DRR : 0x00000000\n",
      "B2Recv after split : ['0x00', '0x00', '0x00', '0x00']\n",
      "Done\n",
      "TransferData\n",
      "byte2Send: [240, 251, 0, 0] => 0xF0FB0000 (32-bit)\n",
      "STAT_REG (二進制) : 00000100001\n",
      "XSP_RFO_OFFSET: 0x00000000\n",
      "STAT_REG (二進制) : 00000100100\n",
      "ReadResponse\n",
      "XSP_RFO_OFFSET: 0x00000000\n",
      "32-bit read from DRR : 0x00000000\n",
      "B2Recv after split : ['0x00', '0x00', '0x00', '0x00']\n",
      "Done\n"
     ]
    }
   ],
   "source": [
    "iend = list(range(1,3))\n",
    "for i in iend:\n",
    "    byte2Send = [0xf0, 0xfb, 0x00, 0x00]\n",
    "    byte2Recv = [] # 用 zeros 初始化接收數組\n",
    "    xfer(byte2Send, byte2Recv, AxiQspi)"
   ]
  },
  {
   "cell_type": "code",
   "execution_count": 40,
   "id": "6d721f25",
   "metadata": {},
   "outputs": [
    {
     "name": "stdout",
     "output_type": "stream",
     "text": [
      "TransferData\n",
      "byte2Send: [240, 251, 0, 0] => 0xF0FB0000 (32-bit)\n",
      "XSP_RFO_OFFSET: 0x00000000\n",
      "ReadResponse\n",
      "32-bit read from RFO : 0x00000000\n",
      "32-bit read from DRR : 0xFFFFFFFF\n",
      "B2Recv after split : ['0xFF', '0xFF', '0xFF', '0xFF']\n",
      "Done\n",
      "TransferData\n",
      "byte2Send: [240, 251, 0, 0] => 0xF0FB0000 (32-bit)\n",
      "XSP_RFO_OFFSET: 0x00000000\n",
      "ReadResponse\n",
      "32-bit read from RFO : 0x00000000\n",
      "32-bit read from DRR : 0xFFFFFFFF\n",
      "B2Recv after split : ['0xFF', '0xFF', '0xFF', '0xFF']\n",
      "Done\n",
      "TransferData\n",
      "byte2Send: [240, 251, 0, 0] => 0xF0FB0000 (32-bit)\n",
      "XSP_RFO_OFFSET: 0x00000000\n",
      "ReadResponse\n",
      "32-bit read from RFO : 0x00000000\n",
      "32-bit read from DRR : 0xFFFFFFFF\n",
      "B2Recv after split : ['0xFF', '0xFF', '0xFF', '0xFF']\n",
      "Done\n"
     ]
    },
    {
     "ename": "IndexError",
     "evalue": "list index out of range",
     "output_type": "error",
     "traceback": [
      "\u001b[0;31m---------------------------------------------------------------------------\u001b[0m",
      "\u001b[0;31mIndexError\u001b[0m                                Traceback (most recent call last)",
      "Input \u001b[0;32mIn [40]\u001b[0m, in \u001b[0;36m<cell line: 3>\u001b[0;34m()\u001b[0m\n\u001b[1;32m      3\u001b[0m \u001b[38;5;28;01mfor\u001b[39;00m i \u001b[38;5;129;01min\u001b[39;00m iend:\n\u001b[1;32m      4\u001b[0m     rom_addr\u001b[38;5;241m=\u001b[39m\u001b[38;5;241m251\u001b[39m\n\u001b[0;32m----> 5\u001b[0m     readreg\u001b[38;5;241m=\u001b[39m\u001b[43mReadIntan\u001b[49m\u001b[43m(\u001b[49m\u001b[43mrom_addr\u001b[49m\u001b[43m,\u001b[49m\u001b[38;5;241;43m3\u001b[39;49m\u001b[43m)\u001b[49m\n\u001b[1;32m      6\u001b[0m     \u001b[38;5;28mprint\u001b[39m(\u001b[38;5;124m\"\u001b[39m\u001b[38;5;124mRead Intan Done\u001b[39m\u001b[38;5;124m\"\u001b[39m)\n\u001b[1;32m      7\u001b[0m     \u001b[38;5;28mprint\u001b[39m(\u001b[38;5;124m\"\u001b[39m\u001b[38;5;124mRG:\u001b[39m\u001b[38;5;124m\"\u001b[39m,readreg)\n",
      "Input \u001b[0;32mIn [39]\u001b[0m, in \u001b[0;36mReadIntan\u001b[0;34m(reg_addr, times)\u001b[0m\n\u001b[1;32m     22\u001b[0m     xfer(byte2Send, byte2Recv, AxiQspi)\n\u001b[1;32m     23\u001b[0m \u001b[38;5;66;03m#print(chr(byte2Recv[0]))\u001b[39;00m\n\u001b[0;32m---> 24\u001b[0m MB\u001b[38;5;241m=\u001b[39msignedToUnsigned(\u001b[43mbyte2Recv\u001b[49m\u001b[43m[\u001b[49m\u001b[38;5;241;43m2\u001b[39;49m\u001b[43m]\u001b[49m, \u001b[38;5;241m1\u001b[39m)\n\u001b[1;32m     25\u001b[0m LB\u001b[38;5;241m=\u001b[39msignedToUnsigned(byte2Recv[\u001b[38;5;241m3\u001b[39m], \u001b[38;5;241m1\u001b[39m)\n\u001b[1;32m     26\u001b[0m realdata\u001b[38;5;241m=\u001b[39mMB\u001b[38;5;241m<<\u001b[39m\u001b[38;5;241m8\u001b[39m\u001b[38;5;241m|\u001b[39mLB\n",
      "\u001b[0;31mIndexError\u001b[0m: list index out of range"
     ]
    }
   ],
   "source": [
    "# clear()\n",
    "iend = list(range(1,3))\n",
    "for i in iend:\n",
    "    rom_addr=251\n",
    "    readreg=ReadIntan(rom_addr,3)\n",
    "    print(\"Read Intan Done\")\n",
    "    print(\"RG:\",readreg)\n",
    "#     print(ReadIntan(rom_addr,3))\n",
    "# DMB = signedToUnsigned(readreg[0], 1) #list?\n",
    "# DLB = signedToUnsigned(readreg[1], 1)\n",
    "# print(chr(DMB),end='')\n",
    "# print(chr(DLB),end='')"
   ]
  },
  {
   "cell_type": "code",
   "execution_count": null,
   "id": "ba30ade4",
   "metadata": {},
   "outputs": [],
   "source": []
  }
 ],
 "metadata": {
  "kernelspec": {
   "display_name": "Python 3 (ipykernel)",
   "language": "python",
   "name": "python3"
  },
  "language_info": {
   "codemirror_mode": {
    "name": "ipython",
    "version": 3
   },
   "file_extension": ".py",
   "mimetype": "text/x-python",
   "name": "python",
   "nbconvert_exporter": "python",
   "pygments_lexer": "ipython3",
   "version": "3.10.12"
  }
 },
 "nbformat": 4,
 "nbformat_minor": 5
}
