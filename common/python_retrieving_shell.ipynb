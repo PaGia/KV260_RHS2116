{
 "cells": [
  {
   "cell_type": "markdown",
   "metadata": {},
   "source": [
    "##  Retrieving shell command output in IPython"
   ]
  },
  {
   "cell_type": "markdown",
   "metadata": {},
   "source": [
    "This demonstration shows how to capture the outputs of Linux commands executed from the Jupyter notebook and store them as Python variables.\n",
    "\n",
    "We begin by getting the IP address of our host with a Linux command and assigning it to a Python variable. Next we explore the special SList type of the returned results. Then we show how to use one of the special attributes of the SList type to print a formatted directory listing returned by executing the system shell ls -al command.\n",
    "\n",
    "To execute a Linux command in a code cell we must preface the Linux command with the bang character, !. This tells the IPython REPL to route the command that comes after the '!' to the OS shell.\n",
    "\n",
    "For example, we can get the hostname of our platform as follows:"
   ]
  },
  {
   "cell_type": "code",
   "execution_count": 1,
   "metadata": {
    "collapsed": false,
    "jupyter": {
     "outputs_hidden": false
    }
   },
   "outputs": [
    {
     "name": "stdout",
     "output_type": "stream",
     "text": [
      "kria\n"
     ]
    }
   ],
   "source": [
    "!hostname"
   ]
  },
  {
   "cell_type": "markdown",
   "metadata": {},
   "source": [
    "Or if we want the full Internet address, we can execute the following:"
   ]
  },
  {
   "cell_type": "code",
   "execution_count": 2,
   "metadata": {
    "collapsed": false,
    "jupyter": {
     "outputs_hidden": false
    }
   },
   "outputs": [
    {
     "name": "stdout",
     "output_type": "stream",
     "text": [
      "120.126.83.145 \n"
     ]
    }
   ],
   "source": [
    "!hostname -I"
   ]
  },
  {
   "cell_type": "markdown",
   "metadata": {},
   "source": [
    "To capture our host name as a Python variable is straightforward:"
   ]
  },
  {
   "cell_type": "code",
   "execution_count": 3,
   "metadata": {
    "tags": []
   },
   "outputs": [
    {
     "data": {
      "text/plain": [
       "['kria']"
      ]
     },
     "execution_count": 3,
     "metadata": {},
     "output_type": "execute_result"
    }
   ],
   "source": [
    "host_name = !hostname\n",
    "host_name"
   ]
  },
  {
   "cell_type": "markdown",
   "metadata": {},
   "source": [
    "Note the type of the host_name variable returned is special. It is of type SList or to give it its full name IPython.utils.text.SList:"
   ]
  },
  {
   "cell_type": "code",
   "execution_count": 4,
   "metadata": {
    "tags": []
   },
   "outputs": [
    {
     "data": {
      "text/plain": [
       "IPython.utils.text.SList"
      ]
     },
     "execution_count": 4,
     "metadata": {},
     "output_type": "execute_result"
    }
   ],
   "source": [
    "type(host_name)"
   ]
  },
  {
   "cell_type": "markdown",
   "metadata": {},
   "source": [
    "We can ask for more details about the host_name object as follows:"
   ]
  },
  {
   "cell_type": "code",
   "execution_count": 5,
   "metadata": {
    "collapsed": false,
    "jupyter": {
     "outputs_hidden": false
    }
   },
   "outputs": [
    {
     "data": {
      "text/plain": [
       "\u001b[0;31mType:\u001b[0m        SList\n",
       "\u001b[0;31mString form:\u001b[0m ['kria']\n",
       "\u001b[0;31mLength:\u001b[0m      1\n",
       "\u001b[0;31mFile:\u001b[0m        /usr/local/share/pynq-venv/lib/python3.10/site-packages/IPython/utils/text.py\n",
       "\u001b[0;31mDocstring:\u001b[0m  \n",
       "List derivative with a special access attributes.\n",
       "\n",
       "These are normal lists, but with the special attributes:\n",
       "\n",
       "* .l (or .list) : value as list (the list itself).\n",
       "* .n (or .nlstr): value as a string, joined on newlines.\n",
       "* .s (or .spstr): value as a string, joined on spaces.\n",
       "* .p (or .paths): list of path objects (requires path.py package)\n",
       "\n",
       "Any values which require transformations are computed only once and\n",
       "cached.\n"
      ]
     },
     "metadata": {},
     "output_type": "display_data"
    }
   ],
   "source": [
    "host_name?"
   ]
  },
  {
   "cell_type": "markdown",
   "metadata": {},
   "source": [
    "The following message appears in a separate window:\n",
    "\n",
    "```\n",
    "Type:        SList\n",
    "String form: ['plpynqz1']\n",
    "Length:      1\n",
    "File:        /usr/local/lib/python3.4/dist-packages/IPython/utils/text.py\n",
    "Docstring:  \n",
    "List derivative with a special access attributes.\n",
    "\n",
    "These are normal lists, but with the special attributes:\n",
    "\n",
    "* .l (or .list) : value as list (the list itself).\n",
    "* .n (or .nlstr): value as a string, joined on newlines.\n",
    "* .s (or .spstr): value as a string, joined on spaces.\n",
    "* .p (or .paths): list of path objects (requires path.py package)\n",
    "\n",
    "Any values which require transformations are computed only once and\n",
    "cached.\n",
    "```\n",
    "\n",
    "The key observation here is that the SList type is simply a\n",
    "> List derivative with special access attributes\n",
    "\n",
    "If we execute a shell command which returns multi-line output, type SList captures the output as a list of strings:"
   ]
  },
  {
   "cell_type": "code",
   "execution_count": 6,
   "metadata": {
    "tags": []
   },
   "outputs": [
    {
     "data": {
      "text/plain": [
       "['total 1940',\n",
       " 'drwxrwxrwx  4 root root    4096 Sep 11 14:01 .',\n",
       " 'drwxrwxrwx 10 root root    4096 Sep 14 20:58 ..',\n",
       " 'drwxr-xr-x  2 root root    4096 Sep 14 20:59 .ipynb_checkpoints',\n",
       " 'drwxrwxrwx  2 root root    4096 Sep 14 21:00 data',\n",
       " '-rwxrwxrwx  1 root root    4479 Sep  2 18:41 display_port_introduction.ipynb',\n",
       " '-rwxrwxrwx  1 root root   14692 Sep  2 18:41 overlay_download.ipynb',\n",
       " '-rw-rw-rw-  1 root root    8040 Sep  2 18:41 programming_pybind11.ipynb',\n",
       " '-rwxrwxrwx  1 root root 1390213 Sep  2 18:41 python_random.ipynb',\n",
       " '-rwxrwxrwx  1 root root    4647 Sep  2 18:41 python_retrieving_shell.ipynb',\n",
       " '-rwxrwxrwx  1 root root  518556 Sep  2 18:41 usb_webcam.ipynb',\n",
       " '-rw-rw-rw-  1 root root    5241 Sep  2 18:41 wifi.ipynb',\n",
       " '-rwxrwxrwx  1 root root    5379 Sep  2 18:41 zynq_clocks.ipynb']"
      ]
     },
     "execution_count": 6,
     "metadata": {},
     "output_type": "execute_result"
    }
   ],
   "source": [
    "dir_list = !ls -al\n",
    "dir_list"
   ]
  },
  {
   "cell_type": "markdown",
   "metadata": {},
   "source": [
    "So to print dir_list, as a list of strings, separated by newlines, we can run the following:"
   ]
  },
  {
   "cell_type": "code",
   "execution_count": 7,
   "metadata": {
    "tags": []
   },
   "outputs": [
    {
     "name": "stdout",
     "output_type": "stream",
     "text": [
      "total 1940\n",
      "drwxrwxrwx  4 root root    4096 Sep 11 14:01 .\n",
      "drwxrwxrwx 10 root root    4096 Sep 14 20:58 ..\n",
      "drwxr-xr-x  2 root root    4096 Sep 14 20:59 .ipynb_checkpoints\n",
      "drwxrwxrwx  2 root root    4096 Sep 14 21:00 data\n",
      "-rwxrwxrwx  1 root root    4479 Sep  2 18:41 display_port_introduction.ipynb\n",
      "-rwxrwxrwx  1 root root   14692 Sep  2 18:41 overlay_download.ipynb\n",
      "-rw-rw-rw-  1 root root    8040 Sep  2 18:41 programming_pybind11.ipynb\n",
      "-rwxrwxrwx  1 root root 1390213 Sep  2 18:41 python_random.ipynb\n",
      "-rwxrwxrwx  1 root root    4647 Sep  2 18:41 python_retrieving_shell.ipynb\n",
      "-rwxrwxrwx  1 root root  518556 Sep  2 18:41 usb_webcam.ipynb\n",
      "-rw-rw-rw-  1 root root    5241 Sep  2 18:41 wifi.ipynb\n",
      "-rwxrwxrwx  1 root root    5379 Sep  2 18:41 zynq_clocks.ipynb\n"
     ]
    }
   ],
   "source": [
    "print(dir_list.n)"
   ]
  },
  {
   "cell_type": "code",
   "execution_count": null,
   "metadata": {},
   "outputs": [],
   "source": []
  }
 ],
 "metadata": {
  "kernelspec": {
   "display_name": "Python 3 (ipykernel)",
   "language": "python",
   "name": "python3"
  },
  "language_info": {
   "codemirror_mode": {
    "name": "ipython",
    "version": 3
   },
   "file_extension": ".py",
   "mimetype": "text/x-python",
   "name": "python",
   "nbconvert_exporter": "python",
   "pygments_lexer": "ipython3",
   "version": "3.10.12"
  }
 },
 "nbformat": 4,
 "nbformat_minor": 4
}
