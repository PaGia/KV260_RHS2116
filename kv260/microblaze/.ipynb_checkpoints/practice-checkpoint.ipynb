{
 "cells": [
  {
   "cell_type": "code",
   "execution_count": 2,
   "id": "3449beec-4b89-4a09-ae96-291439de11df",
   "metadata": {},
   "outputs": [
    {
     "data": {
      "application/javascript": [
       "\n",
       "try {\n",
       "require(['notebook/js/codecell'], function(codecell) {\n",
       "  codecell.CodeCell.options_default.highlight_modes[\n",
       "      'magic_text/x-csrc'] = {'reg':[/^%%microblaze/]};\n",
       "  Jupyter.notebook.events.one('kernel_ready.Kernel', function(){\n",
       "      Jupyter.notebook.get_cells().map(function(cell){\n",
       "          if (cell.cell_type == 'code'){ cell.auto_highlight(); } }) ;\n",
       "  });\n",
       "});\n",
       "} catch (e) {};\n"
      ]
     },
     "metadata": {},
     "output_type": "display_data"
    },
    {
     "data": {
      "application/javascript": [
       "\n",
       "try {\n",
       "require(['notebook/js/codecell'], function(codecell) {\n",
       "  codecell.CodeCell.options_default.highlight_modes[\n",
       "      'magic_text/x-csrc'] = {'reg':[/^%%pybind11/]};\n",
       "  Jupyter.notebook.events.one('kernel_ready.Kernel', function(){\n",
       "      Jupyter.notebook.get_cells().map(function(cell){\n",
       "          if (cell.cell_type == 'code'){ cell.auto_highlight(); } }) ;\n",
       "  });\n",
       "});\n",
       "} catch (e) {};\n"
      ]
     },
     "metadata": {},
     "output_type": "display_data"
    }
   ],
   "source": [
    "from kv260 import BaseOverlay\n",
    "\n",
    "base = BaseOverlay('base.bit', ignore_version=True)"
   ]
  },
  {
   "cell_type": "code",
   "execution_count": 5,
   "id": "b024cabc-d228-440f-8802-8c62ac55f32c",
   "metadata": {},
   "outputs": [
    {
     "data": {
      "text/plain": [
       "['__class__',\n",
       " '__delattr__',\n",
       " '__dict__',\n",
       " '__dir__',\n",
       " '__doc__',\n",
       " '__eq__',\n",
       " '__format__',\n",
       " '__ge__',\n",
       " '__getattribute__',\n",
       " '__gt__',\n",
       " '__hash__',\n",
       " '__init__',\n",
       " '__init_subclass__',\n",
       " '__le__',\n",
       " '__lt__',\n",
       " '__module__',\n",
       " '__ne__',\n",
       " '__new__',\n",
       " '__reduce__',\n",
       " '__reduce_ex__',\n",
       " '__repr__',\n",
       " '__setattr__',\n",
       " '__sizeof__',\n",
       " '__str__',\n",
       " '__subclasshook__',\n",
       " '__weakref__',\n",
       " '_build_constants',\n",
       " '_build_functions',\n",
       " '_mb',\n",
       " '_populate_typedefs',\n",
       " '_rpc_stream',\n",
       " 'active_functions',\n",
       " 'release',\n",
       " 'reset',\n",
       " 'spi_close',\n",
       " 'spi_configure',\n",
       " 'spi_get_num_devices',\n",
       " 'spi_open',\n",
       " 'spi_open_device',\n",
       " 'spi_transfer',\n",
       " 'visitor']"
      ]
     },
     "execution_count": 5,
     "metadata": {},
     "output_type": "execute_result"
    }
   ],
   "source": [
    "from pynq.lib import MicroblazeLibrary\n",
    "# 加載 Pmod SPI 庫\n",
    "lib = MicroblazeLibrary(base.PMODA, ['spi'])\n",
    "\n",
    "# 可以檢查可用的方法\n",
    "dir(lib)"
   ]
  },
  {
   "cell_type": "code",
   "execution_count": 26,
   "id": "24bc296f-fab2-46c1-ab00-85d7ee5030ce",
   "metadata": {},
   "outputs": [],
   "source": [
    "%%microblaze base.PMODA\n",
    "#include <yield.h>\n",
    "\n",
    "static int counter = 0;\n",
    "volatile int stop_flag = 0;\n",
    "\n",
    "void start_counter() {\n",
    "    counter = 0; \n",
    "    stop_flag = 0;\n",
    "    while (!stop_flag) {\n",
    "        ++counter;\n",
    "        yield();\n",
    "    }\n",
    "}\n",
    "\n",
    "//測試\n",
    "void stop_counter() {\n",
    "    stop_flag = 1;\n",
    "}\n",
    "\n",
    "\n",
    "int counter_value() {\n",
    "    return counter;\n",
    "}\n"
   ]
  },
  {
   "cell_type": "code",
   "execution_count": 27,
   "id": "73fe251c-54a3-4e25-8790-37a41c875ac6",
   "metadata": {},
   "outputs": [],
   "source": [
    "start_counter()"
   ]
  },
  {
   "cell_type": "code",
   "execution_count": 53,
   "id": "6167ade5-46e4-4516-9662-1652154c58bf",
   "metadata": {},
   "outputs": [
    {
     "data": {
      "text/plain": [
       "7585176"
      ]
     },
     "execution_count": 53,
     "metadata": {},
     "output_type": "execute_result"
    }
   ],
   "source": [
    "counter_value()"
   ]
  },
  {
   "cell_type": "code",
   "execution_count": 54,
   "id": "94770c89-9ecc-468b-ae03-5cdfc2e0f9b6",
   "metadata": {},
   "outputs": [],
   "source": [
    "stop_counter()"
   ]
  },
  {
   "cell_type": "code",
   "execution_count": 21,
   "id": "8f5e5248-42b8-4622-90af-f3b10cd388dc",
   "metadata": {},
   "outputs": [],
   "source": [
    "%%microblaze base.PMODA\n",
    "\n",
    "typedef unsigned int mod_int;\n",
    "\n",
    "mod_int mod_int_create(int val) { return val % 53; }\n",
    "mod_int mod_int_sum(mod_int lhs, int rhs) { return (lhs + rhs) % 53; }"
   ]
  },
  {
   "cell_type": "code",
   "execution_count": 23,
   "id": "9456d027-ea2e-4e3f-998f-f6ac46404dcb",
   "metadata": {},
   "outputs": [
    {
     "name": "stdout",
     "output_type": "stream",
     "text": [
      "typedef mod_int containing 14\n",
      "14\n"
     ]
    }
   ],
   "source": [
    "a = mod_int_create(63)\n",
    "b = a.sum(4)\n",
    "print(b)\n",
    "print(b._val)"
   ]
  },
  {
   "cell_type": "code",
   "execution_count": 24,
   "id": "43dc2b5c-8bde-41ed-b0a9-e59a037dd596",
   "metadata": {},
   "outputs": [],
   "source": [
    "base.free()"
   ]
  }
 ],
 "metadata": {
  "kernelspec": {
   "display_name": "Python 3 (ipykernel)",
   "language": "python",
   "name": "python3"
  },
  "language_info": {
   "codemirror_mode": {
    "name": "ipython",
    "version": 3
   },
   "file_extension": ".py",
   "mimetype": "text/x-python",
   "name": "python",
   "nbconvert_exporter": "python",
   "pygments_lexer": "ipython3",
   "version": "3.10.12"
  }
 },
 "nbformat": 4,
 "nbformat_minor": 5
}
