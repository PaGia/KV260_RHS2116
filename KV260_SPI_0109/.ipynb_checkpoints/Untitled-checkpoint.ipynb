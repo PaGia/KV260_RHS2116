{
 "cells": [
  {
   "cell_type": "code",
   "execution_count": 122,
   "id": "2a48ea9a",
   "metadata": {},
   "outputs": [],
   "source": [
    "from pynq import Overlay, MMIO\n",
    "import pynq.lib as lib\n",
    "import time\n",
    "import numpy as np\n",
    "from datetime import datetime\n",
    "from pytz import timezone\n",
    "overlay = Overlay(\"./SPI_GPIO_wrapper.bit\")\n",
    "AxiQspi = overlay.axi_quad_spi_0\n",
    "overlay?"
   ]
  },
  {
   "cell_type": "code",
   "execution_count": 78,
   "id": "065778fc",
   "metadata": {},
   "outputs": [],
   "source": [
    "AxiQspi.write?"
   ]
  },
  {
   "cell_type": "code",
   "execution_count": 123,
   "id": "f488c9c5",
   "metadata": {},
   "outputs": [],
   "source": [
    "# Offset\n",
    "# Interrupt Control Grouping\n",
    "XSP_DGIER_OFFSET = 0x1C # Device global interrupt enable register\n",
    "XSP_IISR_OFFSET = 0x20 # IP interrupt status register\n",
    "XSP_IIER_OFFSET = 0x28 # IP interrupt enable register\n",
    "# Core Grouping\n",
    "XSP_SRR_OFFSET = 0x40 # Software reset register\n",
    "XSP_CR_OFFSET = 0x60 # SPI control register\n",
    "XSP_SR_OFFSET = 0x64 # SPI status register\n",
    "XSP_DTR_OFFSET = 0x68 # SPI data transmit register.\n",
    "XSP_DRR_OFFSET = 0x6C # SPI data receive register\n",
    "XSP_SSR_OFFSET = 0x70 # SPI Slave select register\n",
    "XSP_TFO_OFFSET = 0x74 # Transmit FIFO occupancy register\n",
    "XSP_RFO_OFFSET = 0x78 # Receive FIFO occupancy register\n",
    "XSP_REGISTERS = [0x40, 0x60, 0x64, 0x68, 0x6c, 0x70, 0x74, 0x78, 0x1c, 0x20, 0x28]\n",
    "\n",
    "# Mask\n",
    "XSP_SRR_RESET_MASK = 0x0A\n",
    "XSP_SR_TX_EMPTY_MASK = 0x04\n",
    "XSP_SR_TX_FULL_MASK = 0x08\n",
    "## Crl mask\n",
    "XSP_CR_TRANS_INHIBIT_MASK = 0x100 # Master Transaction Inhibit 0 = enable, 1 = disable\n",
    "XSP_CR_LOOPBACK_MASK = 0x01 # Lookback mode: 0 = Normal operation, 1 = Loopback mode\n",
    "XSP_CR_ENABLE_MASK = 0x02 # SPI system enable: 0 = SPI system disabled, 1 = SPI system enabled.\n",
    "XSP_CR_MASTER_MODE_MASK = 0x04 # Set SPI mode: 0 = Slave configuration, 1 = Master configuration.\n",
    "XSP_CR_CLK_POLARITY_MASK = 0x08 # Clock phase\n",
    "XSP_CR_CLK_PHASE_MASK = 0x10 # Clock polarity\n",
    "XSP_CR_TXFIFO_RESET_MASK = 0x20 # Transmit FIFO reset: 0 = Transmit FIFO normal operation, 1 = Reset transmit FIFO pointer.\n",
    "XSP_CR_RXFIFO_RESET_MASK = 0x40 # Receive FIFO reset: 0 = Receive FIFO normal operation, 1 = Reset receive FIFO pointer.\n",
    "XSP_CR_MANUAL_SS_MASK = 0x80 # Manual slave select assertion enable\n",
    "\n",
    "SLAVE_NO_SELECTION = 0xFFFFFFFF"
   ]
  },
  {
   "cell_type": "code",
   "execution_count": 124,
   "id": "0181867c",
   "metadata": {},
   "outputs": [
    {
     "name": "stdout",
     "output_type": "stream",
     "text": [
      "Done\n"
     ]
    }
   ],
   "source": [
    "def cnfg(AxiQspi, clk_phase=0, clk_pol=0):\n",
    "    print(\"Configure device\")\n",
    "    # Reset the SPI device\n",
    "    AxiQspi.write(XSP_SRR_OFFSET, XSP_SRR_RESET_MASK)\n",
    "    # Enable the transmit empty interrupt, which we use to determine progress on the transmission. \n",
    "    AxiQspi.write(XSP_IIER_OFFSET, XSP_SR_TX_EMPTY_MASK)\n",
    "    # Disable the global IPIF interrupt\n",
    "    AxiQspi.write(XSP_DGIER_OFFSET, 0)\n",
    "    # Deselect the slave on the SPI bus\n",
    "    AxiQspi.write(XSP_SSR_OFFSET, SLAVE_NO_SELECTION)\n",
    "    # Disable the transmitter, enable Manual Slave Select Assertion, put SPI controller into master mode, and enable it\n",
    "    ControlReg = AxiQspi.read(XSP_CR_OFFSET)\n",
    "    ControlReg = ControlReg | XSP_CR_MASTER_MODE_MASK | XSP_CR_MANUAL_SS_MASK | XSP_CR_ENABLE_MASK | XSP_CR_TXFIFO_RESET_MASK | XSP_CR_RXFIFO_RESET_MASK\n",
    "    AxiQspi.write(XSP_CR_OFFSET, ControlReg)\n",
    "    ControlReg = AxiQspi.read(XSP_CR_OFFSET)\n",
    "    ControlReg = ControlReg & ~(XSP_CR_CLK_PHASE_MASK | XSP_CR_CLK_POLARITY_MASK) \n",
    "    if clk_phase == 1:\n",
    "        ControlReg = ControlReg | XSP_CR_CLK_PHASE_MASK\n",
    "    if clk_pol == 1:\n",
    "        ControlReg = ControlReg | XSP_CR_CLK_POLARITY_MASK\n",
    "    AxiQspi.write(XSP_CR_OFFSET, ControlReg) #?\n",
    "    CRRead = AxiQspi.read(XSP_CR_OFFSET)\n",
    "    print(f\"XSP_CR_OFFSET : {bin(CRRead)[2:].zfill(10)}\")\n",
    "    return 0\n",
    "print(\"Done\")"
   ]
  },
  {
   "cell_type": "code",
   "execution_count": 125,
   "id": "cf1a7abd",
   "metadata": {},
   "outputs": [
    {
     "name": "stdout",
     "output_type": "stream",
     "text": [
      "Configure device\n",
      "XSP_CR_OFFSET : 0110000110\n"
     ]
    },
    {
     "data": {
      "text/plain": [
       "0"
      ]
     },
     "execution_count": 125,
     "metadata": {},
     "output_type": "execute_result"
    }
   ],
   "source": [
    "cnfg(AxiQspi)"
   ]
  },
  {
   "cell_type": "code",
   "execution_count": 48,
   "id": "adaa0a91",
   "metadata": {},
   "outputs": [
    {
     "name": "stdout",
     "output_type": "stream",
     "text": [
      "STAT_REG (二進制) : 00000100101\n"
     ]
    }
   ],
   "source": [
    "StatusReg = AxiQspi.read(XSP_SR_OFFSET)\n",
    "print(f\"STAT_REG (二進制) : {bin(StatusReg)[2:].zfill(11)}\")\n"
   ]
  },
  {
   "cell_type": "code",
   "execution_count": 129,
   "id": "7edbc9bc",
   "metadata": {},
   "outputs": [
    {
     "name": "stdout",
     "output_type": "stream",
     "text": [
      "set xfer Done\n"
     ]
    }
   ],
   "source": [
    "def xfer(B2Send, B2Recv, AxiQspi):\n",
    "    \"\"\"\n",
    "    SPI Transfer function that sends and receives data.\n",
    "\n",
    "    Args:\n",
    "        AxiQspi: SPI device object.\n",
    "        B2Send: List of bytes to send.\n",
    "        B2Recv: List to store received bytes.\n",
    "\n",
    "    Returns:\n",
    "        A list of received bytes.\n",
    "    \"\"\"\n",
    "\n",
    "    print(\"TransferData\")\n",
    "    print(f\"byte2Send: {B2Send}\")\n",
    "    StatusReg = AxiQspi.read(XSP_SR_OFFSET)\n",
    "    print(f\"STAT_REG (二進制) : {bin(StatusReg)[2:].zfill(11)}\")\n",
    "    for data in B2Send:\n",
    "        print(f\"data in B2Send: {bin(data)[2:].zfill(8)}\")\n",
    "        AxiQspi.write(XSP_DTR_OFFSET, data)\n",
    "        AxiQspi.write(XSP_SSR_OFFSET, 0xFFFFFFFE)\n",
    "        ControlReg = AxiQspi.read(XSP_CR_OFFSET)\n",
    "        ControlReg = ControlReg & ~XSP_CR_TRANS_INHIBIT_MASK\n",
    "        AxiQspi.write(XSP_CR_OFFSET, ControlReg)\n",
    "\n",
    "        StatusReg = AxiQspi.read(XSP_SR_OFFSET)\n",
    "        while (StatusReg & XSP_SR_TX_EMPTY_MASK) == 0:\n",
    "            StatusReg = AxiQspi.read(XSP_SR_OFFSET)\n",
    "        RFORead=AxiQspi.read(XSP_RFO_OFFSET)    \n",
    "        print(f\"XSP_RFO_OFFSET : {bin(RFORead)[2:].zfill(8)}\")\n",
    "        #print('XSP_RFO_OFFSET : 0x{0:8b}'.format(AxiQspi.read(XSP_RFO_OFFSET)))\n",
    "        ControlReg = AxiQspi.read(XSP_CR_OFFSET)\n",
    "        ControlReg = ControlReg | XSP_CR_TRANS_INHIBIT_MASK\n",
    "        AxiQspi.write(XSP_CR_OFFSET, ControlReg)\n",
    "\n",
    "    AxiQspi.write(XSP_SSR_OFFSET, SLAVE_NO_SELECTION)\n",
    "\n",
    "    print(\"ReadResponse\")\n",
    "    B2Recv = []\n",
    "    RxFifoStatus = AxiQspi.read(XSP_SR_OFFSET) & 0x01\n",
    "#     print(f\"RxFifoStatus (二進制) : {RxFifoStatus}\")\n",
    "    while RxFifoStatus == 0:\n",
    "        temp = AxiQspi.read(XSP_RFO_OFFSET)\n",
    "        print('XSP_RFO_OFFSET  : 0x{0:08x}'.format(temp))\n",
    "        temp = AxiQspi.read(XSP_DRR_OFFSET)\n",
    "        print(f\"XSP_DRR_OFFSET : {bin(temp)[2:].zfill(8)}\")\n",
    "        print(\"temp: \",temp)\n",
    "        B2Recv.append(temp)\n",
    "        print(\"B2Recv: \",B2Recv)\n",
    "        RxFifoStatus = AxiQspi.read(XSP_SR_OFFSET) & 0x01\n",
    "    print(\"Done\")\n",
    "#     return resp\n",
    "print(\"set xfer Done\")"
   ]
  },
  {
   "cell_type": "code",
   "execution_count": 24,
   "id": "4d615794",
   "metadata": {},
   "outputs": [
    {
     "name": "stdout",
     "output_type": "stream",
     "text": [
      "<class 'int'>\n"
     ]
    }
   ],
   "source": [
    "# 測試\n",
    "C = 0xffff\n",
    "# print(type(C))\n",
    "testbyte = [C, 0x00]\n",
    "\n",
    "for data in testbyte:\n",
    "    print(f\"data in B2Send: 0x{data:02X}\")  # 以大寫 16 進位格式輸出\n",
    "\n",
    "print(\"done\")"
   ]
  },
  {
   "cell_type": "code",
   "execution_count": 127,
   "id": "f4e60688",
   "metadata": {},
   "outputs": [
    {
     "name": "stdout",
     "output_type": "stream",
     "text": [
      "Done\n"
     ]
    }
   ],
   "source": [
    "def signedToUnsigned(n, byte_count):\n",
    "    return int.from_bytes(n.to_bytes(byte_count, 'little', signed=True), 'little', signed=False)\n",
    "\n",
    "def toSigned32(n):\n",
    "    n = n & 0xffffffff\n",
    "    return (n ^ 0x80000000) - 0x80000000\n",
    "\n",
    "def getDateTime(): \n",
    "    format = \"%Y-%m-%d %H:%M:%S\"\n",
    "    now_utc = datetime.now(timezone('UTC'))\n",
    "    now_asia = now_utc.astimezone(timezone('Asia/Taipei'))\n",
    "    print(now_asia.strftime(format))\n",
    "    \n",
    "# Read和Write(reg_addr) are DEX?y\n",
    "# 要改，T和R的width都不一樣\n",
    "def ReadIntan(reg_addr,times):\n",
    "    hexReg=f\"0x{reg_addr:02X}\"\n",
    "    reg_addr = int(reg_addr)  \n",
    "    byte2Send = [0xf0, reg_addr, 0x00, 0x00]\n",
    "    byte2Recv = [0x00,0x00,0x00,0x00] # 用 zeros 初始化接收數組\n",
    "    for num in range(1, times+1):\n",
    "        xfer(byte2Send, byte2Recv, AxiQspi)\n",
    "    #print(chr(byte2Recv[0]))\n",
    "    MB=signedToUnsigned(byte2Recv[2], 1)\n",
    "    LB=signedToUnsigned(byte2Recv[3], 1)\n",
    "    realdata=MB<<8|LB\n",
    "    #print(byte2Recv[1])\n",
    "    return toSigned32(realdata)\n",
    "\n",
    "# D要以2byte的方式傳送(hex)\n",
    "def WriteIntan(R,D,timew):\n",
    "    hexR=f\"0x{R:02X}\"\n",
    "    wbyte2Send=[0xB0,hexR,D]\n",
    "    wbyte2Recv=[0x00,0x00,0x00,0x00]\n",
    "    for num in range(1, timew+1):\n",
    "        xfer(wbyte2Send, wbyte2Recv, AxiQspi)\n",
    "    #print(wbyte2Recv)\n",
    "    \n",
    "def CaliIntan():\n",
    "    cbyte2Send=[0x55,0x00,0x00,0x00]\n",
    "    cbyte2Recv=[0x00,0x00,0x00,0x00]\n",
    "    xfer(cbyte2Send, cbyte2Recv, AxiQspi)\n",
    "    #print(cbyte2Recv)\n",
    "    \n",
    "def ConvertIntan(C):\n",
    "    cobyte2Send=[0x3C,C,0x00,0x00] #flag全開\n",
    "    cobyte2Recv=[0x00,0x00,0x00,0x00]\n",
    "    xfer(cobyte2Send, cobyte2Recv, AxiQspi)\n",
    "    #print(cobyte2Recv)\n",
    "    MB=signedToUnsigned(cobyte2Recv[0], 1)\n",
    "    MB2=signedToUnsigned(cobyte2Recv[1], 1)\n",
    "    LB=signedToUnsigned(cobyte2Recv[2], 1)\n",
    "    LB2=signedToUnsigned(cobyte2Recv[3], 1)\n",
    "    ACrealdata=MB<<24|MB2<<16\n",
    "    LGrealdata=LB<<8|LB2 #low-gain amplifier，有需要在把這個移到輸出\n",
    "    return toSigned32(ACrealdata)*CFactor\n",
    "\n",
    "def Iclear():\n",
    "    clbyte2Send=[0x6A,0x00,0x00,0x00]\n",
    "    clbyte2Recv=[0x00,0x00,0x00,0x00]\n",
    "    xfer(clbyte2Send, clbyte2Recv, AxiQspi)\n",
    "\n",
    "print(\"Done\")"
   ]
  },
  {
   "cell_type": "code",
   "execution_count": 53,
   "id": "9d2a3d6d",
   "metadata": {},
   "outputs": [
    {
     "name": "stdout",
     "output_type": "stream",
     "text": [
      "0x02\n"
     ]
    }
   ],
   "source": [
    "R = 2\n",
    "print(f\"0x{R:02X}\")"
   ]
  },
  {
   "cell_type": "code",
   "execution_count": 128,
   "id": "31875f15",
   "metadata": {},
   "outputs": [
    {
     "name": "stdout",
     "output_type": "stream",
     "text": [
      "TransferData\n",
      "byte2Send: [240, 251, 0, 0]\n",
      "STAT_REG (二進制) : 00000100101\n",
      "data in B2Send: 11110000\n",
      "32-bit read from DTR: 0x00000000\n",
      "XSP_RFO_OFFSET : 00000000\n",
      "data in B2Send: 11111011\n",
      "32-bit read from DTR: 0x00000000\n",
      "XSP_RFO_OFFSET : 00000001\n",
      "data in B2Send: 00000000\n",
      "32-bit read from DTR: 0x00000000\n",
      "XSP_RFO_OFFSET : 00000010\n",
      "data in B2Send: 00000000\n",
      "32-bit read from DTR: 0x00000000\n",
      "XSP_RFO_OFFSET : 00000011\n",
      "ReadResponse\n",
      "XSP_RFO_OFFSET  : 0x00000003\n",
      "XSP_DRR_OFFSET : 00000000\n",
      "temp:  0\n",
      "B2Recv:  [0]\n",
      "XSP_RFO_OFFSET  : 0x00000002\n",
      "XSP_DRR_OFFSET : 00000000\n",
      "temp:  0\n",
      "B2Recv:  [0, 0]\n",
      "XSP_RFO_OFFSET  : 0x00000001\n",
      "XSP_DRR_OFFSET : 00100100\n",
      "temp:  36\n",
      "B2Recv:  [0, 0, 36]\n",
      "XSP_RFO_OFFSET  : 0x00000000\n",
      "XSP_DRR_OFFSET : 00100111\n",
      "temp:  39\n",
      "B2Recv:  [0, 0, 36, 39]\n",
      "Done\n",
      "TransferData\n",
      "byte2Send: [240, 251, 0, 0]\n",
      "STAT_REG (二進制) : 00000100101\n",
      "data in B2Send: 11110000\n",
      "32-bit read from DTR: 0x00000000\n",
      "XSP_RFO_OFFSET : 00000000\n",
      "data in B2Send: 11111011\n",
      "32-bit read from DTR: 0x00000000\n",
      "XSP_RFO_OFFSET : 00000001\n",
      "data in B2Send: 00000000\n",
      "32-bit read from DTR: 0x00000000\n",
      "XSP_RFO_OFFSET : 00000010\n",
      "data in B2Send: 00000000\n",
      "32-bit read from DTR: 0x00000000\n",
      "XSP_RFO_OFFSET : 00000011\n",
      "ReadResponse\n",
      "XSP_RFO_OFFSET  : 0x00000003\n",
      "XSP_DRR_OFFSET : 00000000\n",
      "temp:  0\n",
      "B2Recv:  [0]\n",
      "XSP_RFO_OFFSET  : 0x00000002\n",
      "XSP_DRR_OFFSET : 00000000\n",
      "temp:  0\n",
      "B2Recv:  [0, 0]\n",
      "XSP_RFO_OFFSET  : 0x00000001\n",
      "XSP_DRR_OFFSET : 00100100\n",
      "temp:  36\n",
      "B2Recv:  [0, 0, 36]\n",
      "XSP_RFO_OFFSET  : 0x00000000\n",
      "XSP_DRR_OFFSET : 00100111\n",
      "temp:  39\n",
      "B2Recv:  [0, 0, 36, 39]\n",
      "Done\n",
      "TransferData\n",
      "byte2Send: [240, 251, 0, 0]\n",
      "STAT_REG (二進制) : 00000100101\n",
      "data in B2Send: 11110000\n",
      "32-bit read from DTR: 0x00000000\n",
      "XSP_RFO_OFFSET : 00000000\n",
      "data in B2Send: 11111011\n",
      "32-bit read from DTR: 0x00000000\n",
      "XSP_RFO_OFFSET : 00000001\n",
      "data in B2Send: 00000000\n",
      "32-bit read from DTR: 0x00000000\n",
      "XSP_RFO_OFFSET : 00000010\n",
      "data in B2Send: 00000000\n",
      "32-bit read from DTR: 0x00000000\n",
      "XSP_RFO_OFFSET : 00000011\n",
      "ReadResponse\n",
      "XSP_RFO_OFFSET  : 0x00000003\n",
      "XSP_DRR_OFFSET : 00000000\n",
      "temp:  0\n",
      "B2Recv:  [0]\n",
      "XSP_RFO_OFFSET  : 0x00000002\n",
      "XSP_DRR_OFFSET : 00000000\n",
      "temp:  0\n",
      "B2Recv:  [0, 0]\n",
      "XSP_RFO_OFFSET  : 0x00000001\n",
      "XSP_DRR_OFFSET : 00100100\n",
      "temp:  36\n",
      "B2Recv:  [0, 0, 36]\n",
      "XSP_RFO_OFFSET  : 0x00000000\n",
      "XSP_DRR_OFFSET : 00100111\n",
      "temp:  39\n",
      "B2Recv:  [0, 0, 36, 39]\n",
      "Done\n",
      "Read Intan Done\n",
      "RG: 0\n"
     ]
    }
   ],
   "source": [
    "# clear()\n",
    "iend = list(range(1,2))\n",
    "for i in iend:\n",
    "    rom_addr=251\n",
    "    readreg=ReadIntan(rom_addr,3)\n",
    "    print(\"Read Intan Done\")\n",
    "    print(\"RG:\",readreg)\n",
    "#     print(ReadIntan(rom_addr,3))\n",
    "# DMB = signedToUnsigned(readreg[0], 1) #list?\n",
    "# DLB = signedToUnsigned(readreg[1], 1)\n",
    "# print(chr(DMB),end='')\n",
    "# print(chr(DLB),end='')"
   ]
  },
  {
   "cell_type": "code",
   "execution_count": null,
   "id": "6dbbe80a",
   "metadata": {},
   "outputs": [],
   "source": [
    "#Check Intan connection and should get \"INTAN\" 5 characters\n",
    "#要改，對RHS的DS\n",
    "checklist=list(range(251,253))\n",
    "for rom_addr in checklist:\n",
    "    readreg=ReadIntan(rom_addr,3)\n",
    "    print(\"Read Intan Done\")\n",
    "    print(\"RG:\",readreg)\n",
    "#     print(ReadIntan(rom_addr,3))\n",
    "    DMB = signedToUnsigned(readreg[0], 1)\n",
    "    DLB = signedToUnsigned(readreg[1], 1)\n",
    "    print(chr(DMB),end='')\n",
    "    print(chr(DLB),end='')"
   ]
  },
  {
   "cell_type": "code",
   "execution_count": 49,
   "id": "2ca88d72",
   "metadata": {},
   "outputs": [],
   "source": [
    "def mock_read(offset):\n",
    "    if offset == XSP_SR_OFFSET:\n",
    "        return XSP_SR_TX_EMPTY_MASK  # 模擬 TX FIFO 為空\n",
    "    return 0\n",
    "\n",
    "AxiQspi.read = mock_read"
   ]
  },
  {
   "cell_type": "code",
   "execution_count": null,
   "id": "38752a04",
   "metadata": {},
   "outputs": [],
   "source": []
  }
 ],
 "metadata": {
  "kernelspec": {
   "display_name": "Python 3 (ipykernel)",
   "language": "python",
   "name": "python3"
  },
  "language_info": {
   "codemirror_mode": {
    "name": "ipython",
    "version": 3
   },
   "file_extension": ".py",
   "mimetype": "text/x-python",
   "name": "python",
   "nbconvert_exporter": "python",
   "pygments_lexer": "ipython3",
   "version": "3.10.12"
  }
 },
 "nbformat": 4,
 "nbformat_minor": 5
}
