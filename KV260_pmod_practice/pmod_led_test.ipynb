{
 "cells": [
  {
   "cell_type": "code",
   "execution_count": 18,
   "id": "b4d284ff",
   "metadata": {},
   "outputs": [],
   "source": [
    "from pynq import Overlay\n",
    "overlay = Overlay(\"./kv260_pmod_led.bit\")\n",
    "overlay?"
   ]
  },
  {
   "cell_type": "code",
   "execution_count": 5,
   "id": "332beba7",
   "metadata": {},
   "outputs": [
    {
     "name": "stdout",
     "output_type": "stream",
     "text": [
      "SPI IP is not found\n"
     ]
    }
   ],
   "source": [
    "# 假設 SPI 名稱為 \"axi_quad_spi_1\"\n",
    "if \"pmod\" in overlay.ip_dict:\n",
    "    print(\"SPI IP is loaded\")\n",
    "else:\n",
    "    print(\"SPI IP is not found\")"
   ]
  },
  {
   "cell_type": "code",
   "execution_count": 6,
   "id": "ac1d3371",
   "metadata": {},
   "outputs": [],
   "source": [
    "from pynq import DefaultIP\n",
    "\n",
    "class PmodDriver(DefaultIP):\n",
    "    def __init__(self, description):\n",
    "        super().__init__(description=description)\n",
    "\n",
    "    bindto = ['xilinx.com:hls:pmod_io:1.0']\n",
    "\n",
    "    def pmod_io_func(self, io_ctrl, io_num):\n",
    "        self.write(0x10, io_ctrl)\n",
    "        self.write(0x18, io_num)\n",
    "        return self.read(0x20)"
   ]
  },
  {
   "cell_type": "code",
   "execution_count": 7,
   "id": "02a2caf1",
   "metadata": {},
   "outputs": [],
   "source": [
    "from pynq import Overlay\n",
    "overlay = Overlay(\"./kv260_pmod_led.bit\")\n",
    "overlay?"
   ]
  },
  {
   "cell_type": "code",
   "execution_count": 17,
   "id": "0b9ba8f7",
   "metadata": {},
   "outputs": [
    {
     "data": {
      "text/plain": [
       "85"
      ]
     },
     "execution_count": 17,
     "metadata": {},
     "output_type": "execute_result"
    }
   ],
   "source": [
    "def binary_to_hex(binary_str):\n",
    "    # 確保輸入的二進制字串是合法的\n",
    "    if all(bit in '01' for bit in binary_str):\n",
    "        # 轉換二進制字串為十進制數字，再轉換為十六進制\n",
    "        return int(binary_str, 2)\n",
    "    else:\n",
    "        raise ValueError(\"Input should be a binary string with only '1' and '0'.\")\n",
    "\n",
    "binary_str = \"01010101\"\n",
    "hex_value = binary_to_hex(binary_str)\n",
    "hex_value\n",
    "overlay.pmod_io_0.pmod_io_func(0x1,hex_value)"
   ]
  },
  {
   "cell_type": "code",
   "execution_count": null,
   "id": "8474694e",
   "metadata": {},
   "outputs": [],
   "source": []
  }
 ],
 "metadata": {
  "kernelspec": {
   "display_name": "Python 3 (ipykernel)",
   "language": "python",
   "name": "python3"
  },
  "language_info": {
   "codemirror_mode": {
    "name": "ipython",
    "version": 3
   },
   "file_extension": ".py",
   "mimetype": "text/x-python",
   "name": "python",
   "nbconvert_exporter": "python",
   "pygments_lexer": "ipython3",
   "version": "3.10.12"
  }
 },
 "nbformat": 4,
 "nbformat_minor": 5
}
