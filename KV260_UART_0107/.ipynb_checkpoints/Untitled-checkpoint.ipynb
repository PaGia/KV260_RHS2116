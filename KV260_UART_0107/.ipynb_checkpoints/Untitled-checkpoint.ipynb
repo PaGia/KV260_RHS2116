{
 "cells": [
  {
   "cell_type": "code",
   "execution_count": 30,
   "id": "689dff2d",
   "metadata": {},
   "outputs": [],
   "source": [
    "from pynq import Overlay\n",
    "from pynq import MMIO\n",
    "from pynq.lib import AxiGPIO\n",
    "import time\n",
    "overlay = Overlay('./KV260_UART_wrapper.bit')\n",
    "# uart = overlay.axi_uartlite_0  \n",
    "overlay?"
   ]
  },
  {
   "cell_type": "code",
   "execution_count": 21,
   "id": "0d592413",
   "metadata": {},
   "outputs": [
    {
     "name": "stdout",
     "output_type": "stream",
     "text": [
      "Sent: H\n",
      "Received: H\n"
     ]
    }
   ],
   "source": [
    "#look back\n",
    "\n",
    "# 使用overlay的UART Lite\n",
    "uartlite = overlay.axi_uartlite_0\n",
    "\n",
    "# 傳送測試字元 'H'\n",
    "uartlite.write(0x04, ord('H'))  # 寫入TX FIFO\n",
    "print(\"Sent: H\")\n",
    "\n",
    "# 等待RX FIFO有數據\n",
    "while uartlite.read(0x08) & 0x01 == 0:  \n",
    "    pass\n",
    "\n",
    "# 讀取RX FIFO\n",
    "received_data = uartlite.read(0x00) & 0xFF\n",
    "print(f\"Received: {chr(received_data)}\")\n"
   ]
  },
  {
   "cell_type": "code",
   "execution_count": 24,
   "id": "a34ac974",
   "metadata": {},
   "outputs": [
    {
     "name": "stdout",
     "output_type": "stream",
     "text": [
      "Received: 1\n",
      "Passed for : 1\n",
      "Received: 2\n",
      "Passed for : 2\n",
      "Received: 3\n",
      "Passed for : 3\n",
      "Received: 4\n",
      "Passed for : 4\n",
      "Received: 5\n",
      "Passed for : 5\n",
      "Received: 6\n",
      "Passed for : 6\n",
      "Received: 7\n",
      "Passed for : 7\n",
      "Received: 8\n",
      "Passed for : 8\n",
      "Received: 9\n",
      "Passed for : 9\n",
      "Received: 10\n",
      "Passed for : 10\n",
      "Done \n"
     ]
    }
   ],
   "source": [
    "#look back\n",
    "\n",
    "uartlite = overlay.axi_uartlite_0\n",
    "\n",
    "def uart_send_byte(byte):\n",
    "    uartlite.write(0x04, byte)\n",
    "\n",
    "\n",
    "def uart_receive_byte():\n",
    "    while (uartlite.read(0x08) & 0x01) == 0:  # 等待RX FIFO有數據\n",
    "        pass\n",
    "    data = uartlite.read(0x00) & 0xFF\n",
    "    print(f\"Received: {data}\")\n",
    "    return data\n",
    "\n",
    "# 每秒發送數字 1 到 10\n",
    "for num in range(1, 11):\n",
    "    uart_send_byte(num)  # 發送數據\n",
    "    time.sleep(1)         # 等待1秒\n",
    "    received_data = uart_receive_byte()  # 接收回傳數據\n",
    "\n",
    "    # 檢查接收到的數據是否正確\n",
    "    if received_data == num:\n",
    "        print(f\"Passed for : {num}\")\n",
    "    else:\n",
    "        print(f\"Failed for : {num}\")\n",
    "\n",
    "print(\"Done \")"
   ]
  },
  {
   "cell_type": "code",
   "execution_count": 28,
   "id": "958ffcae",
   "metadata": {},
   "outputs": [
    {
     "name": "stdout",
     "output_type": "stream",
     "text": [
      "KV260 等待接收數據...\n",
      "STAT_REG (二進制) : 00000100\n",
      "KV260 接收到: 129\n",
      "KV260 回傳數據: 129\n",
      "STAT_REG (二進制) : 00000000\n",
      "KV260 接收到: 130\n",
      "KV260 回傳數據: 130\n",
      "STAT_REG (二進制) : 00000000\n",
      "KV260 接收到: 131\n",
      "KV260 回傳數據: 131\n",
      "STAT_REG (二進制) : 00000000\n",
      "KV260 接收到: 132\n",
      "KV260 回傳數據: 132\n",
      "STAT_REG (二進制) : 00000000\n",
      "KV260 接收到: 133\n",
      "KV260 回傳數據: 133\n",
      "STAT_REG (二進制) : 00000000\n",
      "KV260 傳輸已停止\n"
     ]
    }
   ],
   "source": [
    "# 與外部連線\n",
    "uartlite = overlay.axi_uartlite_0\n",
    "\n",
    "# FIFO 清空 (加入在初始化階段)\n",
    "uartlite.write(0x0C, 0x03)  # Bit 0: 清空 TX FIFO, Bit 1: 清空 RX FIFO\n",
    "time.sleep(0.1)\n",
    "\n",
    "def uart_receive_byte():\n",
    "    stat_reg = uartlite.read(0x08)\n",
    "    print(f\"STAT_REG (二進制) : {bin(stat_reg)[2:].zfill(8)}\")\n",
    "    \n",
    "    \"\"\"接收一個字節並返回8位元數據\"\"\"\n",
    "    while (uartlite.read(0x08) & 0x01) == 0:  # 等待 RX FIFO 有數據\n",
    "        pass\n",
    "    \n",
    "    received_data = uartlite.read(0x00) & 0xFF  # 讀取最低8位元數據\n",
    "    print(f\"KV260 接收到: {received_data}\")\n",
    "    return received_data\n",
    "\n",
    "def uart_send_byte(byte):\n",
    "    \"\"\"傳送一個字節\"\"\"\n",
    "#     while (uartlite.read(0x08) & 0x08) == 0:  # 等待 TX FIFO 不滿\n",
    "#         pass\n",
    "    uartlite.write(0x04, byte)\n",
    "    print(f\"KV260 回傳數據: {byte}\")\n",
    "\n",
    "# 開始 UART 通訊測試\n",
    "print(\"KV260 等待接收數據...\")\n",
    "try:\n",
    "    while True:\n",
    "        received_data = uart_receive_byte() & 0xFF\n",
    "        uart_send_byte(received_data)  # 直接回傳接收到的數據\n",
    "except KeyboardInterrupt:\n",
    "    print(\"KV260 傳輸已停止\")\n"
   ]
  },
  {
   "cell_type": "code",
   "execution_count": null,
   "id": "4d1ca754",
   "metadata": {},
   "outputs": [],
   "source": []
  }
 ],
 "metadata": {
  "kernelspec": {
   "display_name": "Python 3 (ipykernel)",
   "language": "python",
   "name": "python3"
  },
  "language_info": {
   "codemirror_mode": {
    "name": "ipython",
    "version": 3
   },
   "file_extension": ".py",
   "mimetype": "text/x-python",
   "name": "python",
   "nbconvert_exporter": "python",
   "pygments_lexer": "ipython3",
   "version": "3.10.12"
  }
 },
 "nbformat": 4,
 "nbformat_minor": 5
}
